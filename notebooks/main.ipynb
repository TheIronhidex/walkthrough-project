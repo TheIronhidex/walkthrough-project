{
 "cells": [
  {
   "cell_type": "markdown",
   "id": "e6a074f0",
   "metadata": {},
   "source": [
    "Okay, so let's start importing some libraries. Of course 'pandas' will be necessary for having the data in dataframes format. The 'requests', 'zipfile' and 'io' will be used for navigating through the data that we will import, as we won't be using exactly an API. The third one will be used for identifying files with the .xml extension, after changing our work environment into that folder. The forth will be used precisely for changing that environment.\n",
    "After, the fith will be used for navigating through the .xml file and extract the information we require. The seventh will be used for converting some formats into something we can process with pandas. And the last ones will be used just for plotting some graphs which will be useful for our analysis."
   ]
  },
  {
   "cell_type": "code",
   "execution_count": 1,
   "id": "c4db26f2",
   "metadata": {},
   "outputs": [],
   "source": [
    "import pandas as pd\n",
    "import requests, zipfile, io\n",
    "import glob\n",
    "import os\n",
    "import xml.etree.ElementTree as et\n",
    "from string import ascii_letters\n",
    "import numpy as np\n",
    "import seaborn as sns\n",
    "import matplotlib.pyplot as plt"
   ]
  },
  {
   "cell_type": "markdown",
   "id": "e76f9014",
   "metadata": {},
   "source": [
    "Now let's import the data that was provided. There were two files, a .csv and a .xlsx, but as .csv is quite more usual let's focus on the .xlsx. Both have the same content."
   ]
  },
  {
   "cell_type": "code",
   "execution_count": 2,
   "id": "8acdf11d",
   "metadata": {},
   "outputs": [],
   "source": [
    "df = pd.read_excel('../data/measurements2.xlsx')"
   ]
  },
  {
   "cell_type": "markdown",
   "id": "a7c7d516",
   "metadata": {},
   "source": [
    "And let's start by checking the data."
   ]
  },
  {
   "cell_type": "code",
   "execution_count": 3,
   "id": "36922a88",
   "metadata": {},
   "outputs": [
    {
     "data": {
      "text/html": [
       "<div>\n",
       "<style scoped>\n",
       "    .dataframe tbody tr th:only-of-type {\n",
       "        vertical-align: middle;\n",
       "    }\n",
       "\n",
       "    .dataframe tbody tr th {\n",
       "        vertical-align: top;\n",
       "    }\n",
       "\n",
       "    .dataframe thead th {\n",
       "        text-align: right;\n",
       "    }\n",
       "</style>\n",
       "<table border=\"1\" class=\"dataframe\">\n",
       "  <thead>\n",
       "    <tr style=\"text-align: right;\">\n",
       "      <th></th>\n",
       "      <th>distance</th>\n",
       "      <th>consume</th>\n",
       "      <th>speed</th>\n",
       "      <th>temp_inside</th>\n",
       "      <th>temp_outside</th>\n",
       "      <th>specials</th>\n",
       "      <th>gas_type</th>\n",
       "      <th>AC</th>\n",
       "      <th>rain</th>\n",
       "      <th>sun</th>\n",
       "      <th>refill liters</th>\n",
       "      <th>refill gas</th>\n",
       "    </tr>\n",
       "  </thead>\n",
       "  <tbody>\n",
       "    <tr>\n",
       "      <th>0</th>\n",
       "      <td>28.0</td>\n",
       "      <td>5.0</td>\n",
       "      <td>26</td>\n",
       "      <td>21.5</td>\n",
       "      <td>12</td>\n",
       "      <td>NaN</td>\n",
       "      <td>E10</td>\n",
       "      <td>0</td>\n",
       "      <td>0</td>\n",
       "      <td>0</td>\n",
       "      <td>45.0</td>\n",
       "      <td>E10</td>\n",
       "    </tr>\n",
       "    <tr>\n",
       "      <th>1</th>\n",
       "      <td>12.0</td>\n",
       "      <td>4.2</td>\n",
       "      <td>30</td>\n",
       "      <td>21.5</td>\n",
       "      <td>13</td>\n",
       "      <td>NaN</td>\n",
       "      <td>E10</td>\n",
       "      <td>0</td>\n",
       "      <td>0</td>\n",
       "      <td>0</td>\n",
       "      <td>NaN</td>\n",
       "      <td>NaN</td>\n",
       "    </tr>\n",
       "  </tbody>\n",
       "</table>\n",
       "</div>"
      ],
      "text/plain": [
       "   distance  consume  speed  temp_inside  temp_outside specials gas_type  AC  \\\n",
       "0      28.0      5.0     26         21.5            12      NaN      E10   0   \n",
       "1      12.0      4.2     30         21.5            13      NaN      E10   0   \n",
       "\n",
       "   rain  sun  refill liters refill gas  \n",
       "0     0    0           45.0        E10  \n",
       "1     0    0            NaN        NaN  "
      ]
     },
     "execution_count": 3,
     "metadata": {},
     "output_type": "execute_result"
    }
   ],
   "source": [
    "df.head(2)"
   ]
  },
  {
   "cell_type": "markdown",
   "id": "ea17a070",
   "metadata": {},
   "source": [
    "So now we have several columns. As our purpose is to determine which one will be the best fuel let's check what we can know from the data.\n",
    "Preliminary we should consider that the consume is the most important property, as the company will want to save as much money as possible. However, as they are considering if using a fuel with less quantity of emissions will be worthy, we will want to quantify them. Now that's when it becomes tricky, as we need to find a way to discriminate if we consider the other categories worthy or not of taking part in our calculations (i.e. the temperature inside vs. outside will be useful?).\n",
    "Let's check the quality of the data. We can presume that the distance will be directly related to the consume, right? But let's check if this is the situation:"
   ]
  },
  {
   "cell_type": "code",
   "execution_count": 4,
   "id": "a30ae99c",
   "metadata": {},
   "outputs": [
    {
     "data": {
      "text/plain": [
       "array([ 28. ,  12. ,  11.2,  12.9,  18.5,   8.3,   7.8,  12.3,   4.9,\n",
       "        11.9,  12.4,  11.8,  24.7,  17.3,  33.4,  25.9,  25.3,  14.2,\n",
       "        17.9,  18.4,  18.3,  32.6,  19. ,  12.1,  20. ,   4.5,  11.7,\n",
       "        10.2,   5.4,   2. ,  16. ,  27.3,  10.6,  11.6,  13.1,   6.1,\n",
       "       153.5,   2.9,   2.1,   9.8,   6.8,  14. ,  13.9,   9.7,  24.8,\n",
       "        34.8,   5.2,  10.5,  13.2,  13. ,  12.2,  12.5,  15.7,   6.4,\n",
       "         5.3,  26.2,  18.8,  22.9, 162.7,  16.6,  15.9,   5.1,  22.4,\n",
       "        31.1,  16.1,   4.2,  17.4,  23.5,   7. ,  20.1,  20.8,   1.7,\n",
       "        35.9,  36.9,  16.8,   9.9,  36.6,  44.9,  21.6,  39.4,  26.6,\n",
       "        53.2,  18.9,  43.5,  16.4,  21.1,  22.7,  44.4,  35.8,  40.6,\n",
       "        14.1,  58.7,  16.2,  31.8,  51.6,  38.6,  81.2, 130.3,  67.2,\n",
       "        43.7,  56.1,  39. ,  38.5,  28.2,  19.6,  22.2,  13.6,  12.6,\n",
       "         8.7,   7.9,   2.4,  18.1,   1.3,  13.4,  12.8,  29. ,  31.4,\n",
       "        27.1,  25.2,  14.3,  16.9,   9.2,  31.5,  24.9,  17. ,   7.4,\n",
       "        25.7,  24.5,   4.1,  15.4, 101.9,  93.9,  32.1,  48.6,  37.2,\n",
       "        28.8,   6.7,   6.6,  13.3,  12.7,  16.5,  20.6,  16.3,  18.7,\n",
       "        36.5,  29.9,  10.1,  31.9,  10.8,  19.8,  11.3,  11.5,  21.4,\n",
       "        32. ,  41.9, 211. , 216.1,  25.5,  22.1,  39.5,  21.5,   4.8,\n",
       "       100.9, 129.7,  21. ,  17.2,   6. ,  20.9,  15.3,  28.5,  14.5,\n",
       "        16.7,   5.5,  14.7])"
      ]
     },
     "execution_count": 4,
     "metadata": {},
     "output_type": "execute_result"
    }
   ],
   "source": [
    "df['distance'].unique()"
   ]
  },
  {
   "cell_type": "code",
   "execution_count": 5,
   "id": "e0c0707d",
   "metadata": {},
   "outputs": [
    {
     "data": {
      "text/html": [
       "<div>\n",
       "<style scoped>\n",
       "    .dataframe tbody tr th:only-of-type {\n",
       "        vertical-align: middle;\n",
       "    }\n",
       "\n",
       "    .dataframe tbody tr th {\n",
       "        vertical-align: top;\n",
       "    }\n",
       "\n",
       "    .dataframe thead th {\n",
       "        text-align: right;\n",
       "    }\n",
       "</style>\n",
       "<table border=\"1\" class=\"dataframe\">\n",
       "  <thead>\n",
       "    <tr style=\"text-align: right;\">\n",
       "      <th></th>\n",
       "      <th>distance</th>\n",
       "      <th>consume</th>\n",
       "      <th>speed</th>\n",
       "      <th>temp_inside</th>\n",
       "      <th>temp_outside</th>\n",
       "      <th>specials</th>\n",
       "      <th>gas_type</th>\n",
       "      <th>AC</th>\n",
       "      <th>rain</th>\n",
       "      <th>sun</th>\n",
       "      <th>refill liters</th>\n",
       "      <th>refill gas</th>\n",
       "    </tr>\n",
       "  </thead>\n",
       "  <tbody>\n",
       "    <tr>\n",
       "      <th>210</th>\n",
       "      <td>1.3</td>\n",
       "      <td>11.5</td>\n",
       "      <td>21</td>\n",
       "      <td>20.0</td>\n",
       "      <td>10</td>\n",
       "      <td>NaN</td>\n",
       "      <td>SP98</td>\n",
       "      <td>0</td>\n",
       "      <td>0</td>\n",
       "      <td>0</td>\n",
       "      <td>NaN</td>\n",
       "      <td>NaN</td>\n",
       "    </tr>\n",
       "  </tbody>\n",
       "</table>\n",
       "</div>"
      ],
      "text/plain": [
       "     distance  consume  speed  temp_inside  temp_outside specials gas_type  \\\n",
       "210       1.3     11.5     21         20.0            10      NaN     SP98   \n",
       "\n",
       "     AC  rain  sun  refill liters refill gas  \n",
       "210   0     0    0            NaN        NaN  "
      ]
     },
     "execution_count": 5,
     "metadata": {},
     "output_type": "execute_result"
    }
   ],
   "source": [
    "df.loc[df[\"distance\"] == 1.3]"
   ]
  },
  {
   "cell_type": "markdown",
   "id": "a5d36264",
   "metadata": {},
   "source": [
    "Okay now this doesn't make sense at all. How is it possible that the consume is that high in a trip of only 1.3 km? You can try by yourshelf, but at first sight it seems that there are some trips that weren't recorded propertly. Afterall we are suppossing that all the cars in the fleet are high displacement cars. But for now let's consider that everything is allright."
   ]
  },
  {
   "cell_type": "code",
   "execution_count": 6,
   "id": "d2869bb6",
   "metadata": {},
   "outputs": [
    {
     "data": {
      "text/plain": [
       "array(['E10', 'SP98'], dtype=object)"
      ]
     },
     "execution_count": 6,
     "metadata": {},
     "output_type": "execute_result"
    }
   ],
   "source": [
    "df['gas_type'].unique()"
   ]
  },
  {
   "cell_type": "markdown",
   "id": "33c9f799",
   "metadata": {},
   "source": [
    "Why is this useful? Because we first need to check that we can identify each trip by only one type of fuel."
   ]
  },
  {
   "cell_type": "code",
   "execution_count": 7,
   "id": "7a50469a",
   "metadata": {},
   "outputs": [
    {
     "data": {
      "text/plain": [
       "0"
      ]
     },
     "execution_count": 7,
     "metadata": {},
     "output_type": "execute_result"
    }
   ],
   "source": [
    "df['gas_type'].isnull().sum()"
   ]
  },
  {
   "cell_type": "code",
   "execution_count": 8,
   "id": "040ea54b",
   "metadata": {},
   "outputs": [],
   "source": [
    "df['specials'] = df['specials'].fillna('None')\n",
    "df['refill liters'] = df['refill liters'].fillna(0)\n",
    "df['refill gas'] = df['refill gas'].fillna('None')"
   ]
  },
  {
   "cell_type": "markdown",
   "id": "3c603439",
   "metadata": {},
   "source": [
    "Why the last commands? Because I personally prefer having the 'Nan' identified by something else ;)"
   ]
  },
  {
   "cell_type": "code",
   "execution_count": 9,
   "id": "bc3c14ab",
   "metadata": {},
   "outputs": [
    {
     "data": {
      "text/plain": [
       "distance          0\n",
       "consume           0\n",
       "speed             0\n",
       "temp_inside      12\n",
       "temp_outside      0\n",
       "specials          0\n",
       "gas_type          0\n",
       "AC                0\n",
       "rain              0\n",
       "sun               0\n",
       "refill liters     0\n",
       "refill gas        0\n",
       "dtype: int64"
      ]
     },
     "execution_count": 9,
     "metadata": {},
     "output_type": "execute_result"
    }
   ],
   "source": [
    "df.isnull().sum()"
   ]
  },
  {
   "cell_type": "markdown",
   "id": "d6cf0b42",
   "metadata": {},
   "source": [
    "So, we have some 'Nan' in the 'temp_inside' category. As they are only 12 entries, I believe it could be useful just to substitute them by the median or the mode. Let's see which category is more suitable."
   ]
  },
  {
   "cell_type": "code",
   "execution_count": 10,
   "id": "825b433a",
   "metadata": {},
   "outputs": [
    {
     "name": "stderr",
     "output_type": "stream",
     "text": [
      "No handles with labels found to put in legend.\n"
     ]
    },
    {
     "data": {
      "image/png": "[encoded data removed]",
      "text/plain": [
       "<Figure size 432x288 with 1 Axes>"
      ]
     },
     "metadata": {
      "needs_background": "light"
     },
     "output_type": "display_data"
    }
   ],
   "source": [
    "plt.hist(df.temp_inside, bins=20)\n",
    "plt.axvline(np.mean(df.temp_inside),\n",
    "            c=\"red\",\n",
    "            linewidth= 3.,\n",
    "            linestyle='--')\n",
    "plt.title('Histogram of the temperature inside the vehicles', size=20)\n",
    "plt.xlabel('Centigrades')\n",
    "plt.ylabel('Frequency')\n",
    "plt.legend()\n",
    "plt.show();"
   ]
  },
  {
   "cell_type": "code",
   "execution_count": 11,
   "id": "e2202451",
   "metadata": {},
   "outputs": [
    {
     "data": {
      "text/plain": [
       "22.0"
      ]
     },
     "execution_count": 11,
     "metadata": {},
     "output_type": "execute_result"
    }
   ],
   "source": [
    "df['temp_inside'].median()"
   ]
  },
  {
   "cell_type": "code",
   "execution_count": 12,
   "id": "2fd75662",
   "metadata": {},
   "outputs": [
    {
     "data": {
      "text/plain": [
       "0    21.5\n",
       "dtype: float64"
      ]
     },
     "execution_count": 12,
     "metadata": {},
     "output_type": "execute_result"
    }
   ],
   "source": [
    "df['temp_inside'].mode()"
   ]
  },
  {
   "cell_type": "markdown",
   "id": "241e4698",
   "metadata": {},
   "source": [
    "So viewing the histogram, let's say that the median will be useful enough for our purposes. Why? Because the mode is of course more representative, but the median shows better the real distribution of the graph. Just try adding all the frequencies and you will see it clearly."
   ]
  },
  {
   "cell_type": "code",
   "execution_count": 13,
   "id": "16984c42",
   "metadata": {},
   "outputs": [],
   "source": [
    "df['temp_inside'] = df['temp_inside'].fillna(22)"
   ]
  },
  {
   "cell_type": "markdown",
   "id": "fb9cb4a8",
   "metadata": {},
   "source": [
    "Let's check now some of the other columns. The first thing I like is to modify the names so I have no problems later if I have to use brackets or not."
   ]
  },
  {
   "cell_type": "code",
   "execution_count": 14,
   "id": "5fdd7b65",
   "metadata": {},
   "outputs": [],
   "source": [
    "df.rename(columns={'refill gas':'refill_gas','refill liters':'refill_liters'}, inplace=True)"
   ]
  },
  {
   "cell_type": "markdown",
   "id": "a7683dab",
   "metadata": {},
   "source": [
    "And now let's check the 'specials' category, as it will show what type of information is it showing."
   ]
  },
  {
   "cell_type": "code",
   "execution_count": 15,
   "id": "738e4e04",
   "metadata": {},
   "outputs": [
    {
     "data": {
      "text/html": [
       "<div>\n",
       "<style scoped>\n",
       "    .dataframe tbody tr th:only-of-type {\n",
       "        vertical-align: middle;\n",
       "    }\n",
       "\n",
       "    .dataframe tbody tr th {\n",
       "        vertical-align: top;\n",
       "    }\n",
       "\n",
       "    .dataframe thead th {\n",
       "        text-align: right;\n",
       "    }\n",
       "</style>\n",
       "<table border=\"1\" class=\"dataframe\">\n",
       "  <thead>\n",
       "    <tr style=\"text-align: right;\">\n",
       "      <th></th>\n",
       "      <th>distance</th>\n",
       "      <th>consume</th>\n",
       "      <th>speed</th>\n",
       "      <th>temp_inside</th>\n",
       "      <th>temp_outside</th>\n",
       "      <th>specials</th>\n",
       "      <th>gas_type</th>\n",
       "      <th>AC</th>\n",
       "      <th>rain</th>\n",
       "      <th>sun</th>\n",
       "      <th>refill_liters</th>\n",
       "      <th>refill_gas</th>\n",
       "    </tr>\n",
       "  </thead>\n",
       "  <tbody>\n",
       "    <tr>\n",
       "      <th>247</th>\n",
       "      <td>12.3</td>\n",
       "      <td>5.0</td>\n",
       "      <td>42</td>\n",
       "      <td>22.5</td>\n",
       "      <td>10</td>\n",
       "      <td>None</td>\n",
       "      <td>E10</td>\n",
       "      <td>0</td>\n",
       "      <td>0</td>\n",
       "      <td>0</td>\n",
       "      <td>0.0</td>\n",
       "      <td>None</td>\n",
       "    </tr>\n",
       "  </tbody>\n",
       "</table>\n",
       "</div>"
      ],
      "text/plain": [
       "     distance  consume  speed  temp_inside  temp_outside specials gas_type  \\\n",
       "247      12.3      5.0     42         22.5            10     None      E10   \n",
       "\n",
       "     AC  rain  sun  refill_liters refill_gas  \n",
       "247   0     0    0            0.0       None  "
      ]
     },
     "execution_count": 15,
     "metadata": {},
     "output_type": "execute_result"
    }
   ],
   "source": [
    "df.sample(1)"
   ]
  },
  {
   "cell_type": "code",
   "execution_count": 16,
   "id": "1c680153",
   "metadata": {},
   "outputs": [
    {
     "data": {
      "text/plain": [
       "array(['None', 'AC rain', 'AC', 'rain', 'snow', 'AC snow',\n",
       "       'half rain half sun', 'sun', 'AC sun', 'sun ac', 'ac', 'AC Sun',\n",
       "       'ac rain'], dtype=object)"
      ]
     },
     "execution_count": 16,
     "metadata": {},
     "output_type": "execute_result"
    }
   ],
   "source": [
    "df['specials'].unique()"
   ]
  },
  {
   "cell_type": "code",
   "execution_count": 17,
   "id": "2a2323b5",
   "metadata": {},
   "outputs": [
    {
     "data": {
      "text/html": [
       "<div>\n",
       "<style scoped>\n",
       "    .dataframe tbody tr th:only-of-type {\n",
       "        vertical-align: middle;\n",
       "    }\n",
       "\n",
       "    .dataframe tbody tr th {\n",
       "        vertical-align: top;\n",
       "    }\n",
       "\n",
       "    .dataframe thead th {\n",
       "        text-align: right;\n",
       "    }\n",
       "</style>\n",
       "<table border=\"1\" class=\"dataframe\">\n",
       "  <thead>\n",
       "    <tr style=\"text-align: right;\">\n",
       "      <th></th>\n",
       "      <th>distance</th>\n",
       "      <th>consume</th>\n",
       "      <th>speed</th>\n",
       "      <th>temp_inside</th>\n",
       "      <th>temp_outside</th>\n",
       "      <th>specials</th>\n",
       "      <th>gas_type</th>\n",
       "      <th>AC</th>\n",
       "      <th>rain</th>\n",
       "      <th>sun</th>\n",
       "      <th>refill_liters</th>\n",
       "      <th>refill_gas</th>\n",
       "    </tr>\n",
       "  </thead>\n",
       "  <tbody>\n",
       "    <tr>\n",
       "      <th>40</th>\n",
       "      <td>12.4</td>\n",
       "      <td>4.0</td>\n",
       "      <td>55</td>\n",
       "      <td>21.5</td>\n",
       "      <td>7</td>\n",
       "      <td>AC rain</td>\n",
       "      <td>E10</td>\n",
       "      <td>1</td>\n",
       "      <td>1</td>\n",
       "      <td>0</td>\n",
       "      <td>0.0</td>\n",
       "      <td>None</td>\n",
       "    </tr>\n",
       "    <tr>\n",
       "      <th>41</th>\n",
       "      <td>4.5</td>\n",
       "      <td>5.0</td>\n",
       "      <td>29</td>\n",
       "      <td>21.5</td>\n",
       "      <td>7</td>\n",
       "      <td>AC</td>\n",
       "      <td>E10</td>\n",
       "      <td>1</td>\n",
       "      <td>0</td>\n",
       "      <td>0</td>\n",
       "      <td>0.0</td>\n",
       "      <td>None</td>\n",
       "    </tr>\n",
       "  </tbody>\n",
       "</table>\n",
       "</div>"
      ],
      "text/plain": [
       "    distance  consume  speed  temp_inside  temp_outside specials gas_type  AC  \\\n",
       "40      12.4      4.0     55         21.5             7  AC rain      E10   1   \n",
       "41       4.5      5.0     29         21.5             7       AC      E10   1   \n",
       "\n",
       "    rain  sun  refill_liters refill_gas  \n",
       "40     1    0            0.0       None  \n",
       "41     0    0            0.0       None  "
      ]
     },
     "execution_count": 17,
     "metadata": {},
     "output_type": "execute_result"
    }
   ],
   "source": [
    "df[df['AC']==1].head(2)"
   ]
  },
  {
   "cell_type": "markdown",
   "id": "4b9973f4",
   "metadata": {},
   "source": [
    "Okay, we can see that the 'specials' category is showing if there was a special incidence under the categories of 'AC', 'rain' or 'sun'. If there had been any specific event, it should appear remarkable at the pool. For example, if the row is showing 'half rain half sun', we would like to expect a 1 at rain and a 1 at sun, right? Of course we could pretend a 0.5 in each category, but it would make the ulterior analysis more difficult. Let's pretend that a 1:1 will make the deal."
   ]
  },
  {
   "cell_type": "code",
   "execution_count": 18,
   "id": "2fd02977",
   "metadata": {},
   "outputs": [],
   "source": [
    "df.loc[df[\"specials\"] == \"snow\", \"AC\"] = 0\n",
    "df.loc[df[\"specials\"] == \"snow\", \"rain\"] = 1\n",
    "df.loc[df[\"specials\"] == \"snow\", \"sun\"] = 0\n",
    "\n",
    "df.loc[df[\"specials\"] == \"AC snow\", \"AC\"] = 1\n",
    "df.loc[df[\"specials\"] == \"AC snow\", \"rain\"] = 1\n",
    "df.loc[df[\"specials\"] == \"AC snow\", \"sun\"] = 0\n",
    "\n",
    "df.loc[df[\"specials\"] == \"rain\", \"AC\"] = 0\n",
    "df.loc[df[\"specials\"] == \"rain\", \"rain\"] = 1\n",
    "df.loc[df[\"specials\"] == \"rain\", \"sun\"] = 0\n",
    "\n",
    "df.loc[df[\"specials\"] == \"half rain half sun\", \"AC\"] = 0\n",
    "df.loc[df[\"specials\"] == \"half rain half sun\", \"rain\"] = 1\n",
    "df.loc[df[\"specials\"] == \"half rain half sun\", \"sun\"] = 1\n",
    "\n",
    "df.loc[df[\"specials\"] == \"ac\", \"AC\"] = 1\n",
    "df.loc[df[\"specials\"] == \"ac\", \"rain\"] = 0\n",
    "df.loc[df[\"specials\"] == \"ac\", \"sun\"] = 0\n",
    "\n",
    "df.loc[df[\"specials\"] == \"AC\", \"AC\"] = 1\n",
    "df.loc[df[\"specials\"] == \"AC\", \"rain\"] = 0\n",
    "df.loc[df[\"specials\"] == \"AC\", \"sun\"] = 0\n",
    "\n",
    "df.loc[df[\"specials\"] == \"AC rain\", \"AC\"] = 1\n",
    "df.loc[df[\"specials\"] == \"AC rain\", \"rain\"] = 1\n",
    "df.loc[df[\"specials\"] == \"AC rain\", \"sun\"] = 0\n",
    "\n",
    "df.loc[df[\"specials\"] == \"sun\", \"AC\"] = 0\n",
    "df.loc[df[\"specials\"] == \"sun\", \"rain\"] = 0\n",
    "df.loc[df[\"specials\"] == \"sun\", \"sun\"] = 1\n",
    "\n",
    "df.loc[df[\"specials\"] == \"AC sun\", \"AC\"] = 1\n",
    "df.loc[df[\"specials\"] == \"AC sun\", \"rain\"] = 0\n",
    "df.loc[df[\"specials\"] == \"AC sun\", \"sun\"] = 1\n",
    "\n",
    "df.loc[df[\"specials\"] == \"sun ac\", \"AC\"] = 1\n",
    "df.loc[df[\"specials\"] == \"sun ac\", \"rain\"] = 0\n",
    "df.loc[df[\"specials\"] == \"sun ac\", \"sun\"] = 1\n",
    "\n",
    "df.loc[df[\"specials\"] == \"AC Sun\", \"AC\"] = 1\n",
    "df.loc[df[\"specials\"] == \"AC Sun\", \"rain\"] = 0\n",
    "df.loc[df[\"specials\"] == \"AC Sun\", \"sun\"] = 1\n",
    "\n",
    "df.loc[df[\"specials\"] == \"ac rain\", \"AC\"] = 1\n",
    "df.loc[df[\"specials\"] == \"ac rain\", \"rain\"] = 1\n",
    "df.loc[df[\"specials\"] == \"ac rain\", \"sun\"] = 0"
   ]
  },
  {
   "cell_type": "markdown",
   "id": "276a7d83",
   "metadata": {},
   "source": [
    "What have we done? Just assigned the corresponding values to each category. It would be more intelligent to create a function for each environment if the database size was bigger, but for this case doing these operations like that should be enough."
   ]
  },
  {
   "cell_type": "code",
   "execution_count": 19,
   "id": "c4ddd9c4",
   "metadata": {},
   "outputs": [],
   "source": [
    "df.drop(['specials'], axis=1, inplace=True)"
   ]
  },
  {
   "cell_type": "markdown",
   "id": "f48aace0",
   "metadata": {},
   "source": [
    "So now we don't need the 'specials' category anymore, as we have transcribed all the info to the other categories. Let's see how we can enrich our database."
   ]
  },
  {
   "cell_type": "code",
   "execution_count": null,
   "id": "4db93e8c",
   "metadata": {},
   "outputs": [],
   "source": [
    "////////////////////////////////////////////////////////////////////////////////////////////////////////////////////////////////"
   ]
  },
  {
   "cell_type": "markdown",
   "id": "e7dc00c5",
   "metadata": {},
   "source": [
    "Would be nice to have an estimation of the fuel prices as well as the emissions, so later we may get a prediction of the cost based on the driving conditions.\n",
    "\n",
    "Let's use the public data offered by the frech goverment. Why? Because France was one of the first countries in Europe that changed it's service of SP95 fuel into the SP95-E10. Of course you can addapt your prediction to other markets, like the north american. Let's imagine for now that the company was origined in France, and therefore they are considering if it makes sense to continue with their usual fuel of it's worthy to change to a more 'ecologist' one."
   ]
  },
  {
   "cell_type": "code",
   "execution_count": 20,
   "id": "df6161d4",
   "metadata": {},
   "outputs": [],
   "source": [
    "r = requests.get('https://donnees.roulez-eco.fr/opendata/jour')\n",
    "z = zipfile.ZipFile(io.BytesIO(r.content))\n",
    "z.extractall(\"../data/\")"
   ]
  },
  {
   "cell_type": "markdown",
   "id": "339e122c",
   "metadata": {},
   "source": [
    "Here we have downloaded information about the daily prices of both fuels offered by all the gas stations in France. You can also addapt your prediction to monthly consumptions, but the database will be quite bigger.\n",
    "So first we need to change our working directory into the one where we have downloaded the .xml file.\n",
    "\n",
    "Remember to delete any older .xml files from the folder first, as it may interfer with the loading."
   ]
  },
  {
   "cell_type": "code",
   "execution_count": 24,
   "id": "64a9c01c",
   "metadata": {},
   "outputs": [],
   "source": [
    "os.chdir(\"../data\")"
   ]
  },
  {
   "cell_type": "markdown",
   "id": "d62c580b",
   "metadata": {},
   "source": [
    "Now let's identify the file."
   ]
  },
  {
   "cell_type": "code",
   "execution_count": 25,
   "id": "870fc570",
   "metadata": {},
   "outputs": [],
   "source": [
    "xml_file = glob.glob(\"*.xml\")"
   ]
  },
  {
   "cell_type": "markdown",
   "id": "9dc96f8e",
   "metadata": {},
   "source": [
    "And now let's try to parse its content into something that we can use to extract the information we need."
   ]
  },
  {
   "cell_type": "code",
   "execution_count": 26,
   "id": "6ec33e38",
   "metadata": {},
   "outputs": [],
   "source": [
    "xtree = et.parse(xml_file[0])\n",
    "xroot = xtree.getroot()"
   ]
  },
  {
   "cell_type": "markdown",
   "id": "abf23140",
   "metadata": {},
   "source": [
    "So, now we will iterate over all the tags under the category 'prix', which content the information we seek (name of the fuel and it value). For fully understanding this point if you experience any problem, you can access the corresponding resource under its reference (at the README), or at least trying to open the .xml file and explore it by yourshelf."
   ]
  },
  {
   "cell_type": "code",
   "execution_count": 27,
   "id": "d74fd052",
   "metadata": {},
   "outputs": [],
   "source": [
    "name = []\n",
    "for node in xroot.iter('prix'): \n",
    "    name.append(node.attrib.get(\"nom\"))"
   ]
  },
  {
   "cell_type": "code",
   "execution_count": 28,
   "id": "c984c846",
   "metadata": {},
   "outputs": [],
   "source": [
    "price = []\n",
    "for node in xroot.iter('prix'): \n",
    "    price.append(node.attrib.get(\"valeur\"))"
   ]
  },
  {
   "cell_type": "markdown",
   "id": "58ddd496",
   "metadata": {},
   "source": [
    "Until here, we have iterate over the tags that were of our interest and we have save them into a list, so later we can combine them into a dictionary."
   ]
  },
  {
   "cell_type": "code",
   "execution_count": 29,
   "id": "d0a33b69",
   "metadata": {},
   "outputs": [],
   "source": [
    "df1_dict = {\"name\":name, \"price\":price}"
   ]
  },
  {
   "cell_type": "code",
   "execution_count": 30,
   "id": "a008c5aa",
   "metadata": {},
   "outputs": [],
   "source": [
    "df1 = pd.DataFrame(df1_dict, columns=(\"name\",\"price\"))"
   ]
  },
  {
   "cell_type": "markdown",
   "id": "68f6b8d3",
   "metadata": {},
   "source": [
    "And now we have just created a dataframe with the info."
   ]
  },
  {
   "cell_type": "code",
   "execution_count": 31,
   "id": "9ddb0cbf",
   "metadata": {},
   "outputs": [
    {
     "data": {
      "text/html": [
       "<div>\n",
       "<style scoped>\n",
       "    .dataframe tbody tr th:only-of-type {\n",
       "        vertical-align: middle;\n",
       "    }\n",
       "\n",
       "    .dataframe tbody tr th {\n",
       "        vertical-align: top;\n",
       "    }\n",
       "\n",
       "    .dataframe thead th {\n",
       "        text-align: right;\n",
       "    }\n",
       "</style>\n",
       "<table border=\"1\" class=\"dataframe\">\n",
       "  <thead>\n",
       "    <tr style=\"text-align: right;\">\n",
       "      <th></th>\n",
       "      <th>name</th>\n",
       "      <th>price</th>\n",
       "    </tr>\n",
       "  </thead>\n",
       "  <tbody>\n",
       "    <tr>\n",
       "      <th>0</th>\n",
       "      <td>Gazole</td>\n",
       "      <td>1652</td>\n",
       "    </tr>\n",
       "    <tr>\n",
       "      <th>1</th>\n",
       "      <td>SP95</td>\n",
       "      <td>1723</td>\n",
       "    </tr>\n",
       "    <tr>\n",
       "      <th>2</th>\n",
       "      <td>SP98</td>\n",
       "      <td>1755</td>\n",
       "    </tr>\n",
       "  </tbody>\n",
       "</table>\n",
       "</div>"
      ],
      "text/plain": [
       "     name price\n",
       "0  Gazole  1652\n",
       "1    SP95  1723\n",
       "2    SP98  1755"
      ]
     },
     "execution_count": 31,
     "metadata": {},
     "output_type": "execute_result"
    }
   ],
   "source": [
    "df1.head(3)"
   ]
  },
  {
   "cell_type": "markdown",
   "id": "6fa1028b",
   "metadata": {},
   "source": [
    "Let's estimate the mean for all the country, as we don't have true information about the operational areas of the company."
   ]
  },
  {
   "cell_type": "code",
   "execution_count": null,
   "id": "823a1583",
   "metadata": {},
   "outputs": [],
   "source": [
    "df1.price."
   ]
  },
  {
   "cell_type": "code",
   "execution_count": null,
   "id": "9e58c401",
   "metadata": {},
   "outputs": [],
   "source": [
    "////////////////////////////////////////////////////////////////////////////////////////////////////////////////////////////////"
   ]
  },
  {
   "cell_type": "markdown",
   "id": "02acd468",
   "metadata": {},
   "source": [
    "So, what else do we need now? Well, we will try to get an standard cost of the fuels as well as the generic expectable amount of CO2 emissions for each fuel. Afterall we want to check if it would be worthy to spend more money for saving the environment.\n",
    "\n",
    "First, let's go back to our working environment at the 'notebooks' folder."
   ]
  },
  {
   "cell_type": "code",
   "execution_count": null,
   "id": "3c7452d5",
   "metadata": {},
   "outputs": [],
   "source": [
    "os.chdir(\"../notebooks\")"
   ]
  },
  {
   "cell_type": "markdown",
   "id": "02b58e6b",
   "metadata": {},
   "source": [
    "And now let's think, do I really need information about the amount of refill liters or the refill gas? I mean, it could be meaningful if we had split information about the behaviour in each trip before and after refueling, and if there was a change in the fuel that was used. However I would say that if any, most of the trips took place using the same type of fuel, so I will assume that these two categories are not quite useful after all."
   ]
  },
  {
   "cell_type": "code",
   "execution_count": null,
   "id": "489891d4",
   "metadata": {},
   "outputs": [],
   "source": [
    "df.drop(columns=['refill_liters','refill_gas'], inplace=True)"
   ]
  },
  {
   "cell_type": "code",
   "execution_count": null,
   "id": "4272d18b",
   "metadata": {},
   "outputs": [],
   "source": []
  },
  {
   "cell_type": "code",
   "execution_count": null,
   "id": "37f717ff",
   "metadata": {},
   "outputs": [],
   "source": [
    "df['t_cost'] = df.apply(lambda row: (row['consume'] * e10_f) if row['gas_type'] == 'E10' else (row['consume'] * sp98_f), axis=1)\n",
    "df['b_cost'] = df.apply(lambda row: ((row['consume'] / row['distance']) * e10_f) if row['gas_type'] == 'E10' else ((row['consume'] / row['distance']) * sp98_f), axis=1)"
   ]
  },
  {
   "cell_type": "markdown",
   "id": "4fef827a",
   "metadata": {},
   "source": [
    "Let's estimate now the emissions per kilometer for the SP98 fuel:\n",
    "1 liter of petrol weighs 750 grammes. Petrol consists for 87% of carbon, or 652 grammes of carbon per liter of petrol. In order to combust this carbon to CO2, 1740 grammes of oxygen is needed. The sum is then 652 + 1740 = 2392 grammes of CO2/liter of petrol.\n",
    "An average consumption of 5 liters/100 km then corresponds to 5 l x 2392 g/l / 100 (per km) = 120 g CO2/km.\n",
    "\n",
    "If we estimate that 10% of the composition is ethanol, the average decrease of carbon emissions is of 2%:\n",
    "2392 * 0.98 = 2344.16 grammes of CO2/liter of fuel.\n",
    "An average consumption of 5 liters/100 km then corresponds to 5 l x 2344.16 g/l / 100 (per km) = 117.2 g CO2/km."
   ]
  },
  {
   "cell_type": "markdown",
   "id": "9961ce0b",
   "metadata": {},
   "source": [
    "It's clear that the consume is directly linked to the cost per kilometer. The distance and the speed now make more sense that they are negatively correlated, as in the city higher values of both categories may imply a higher efficiency. The other values still seem not to be correlated, so let's skip them for now."
   ]
  },
  {
   "cell_type": "code",
   "execution_count": null,
   "id": "25dbfaaf",
   "metadata": {},
   "outputs": [],
   "source": [
    "co2_km_e10 = 2.34416\n",
    "co2_km_sp98 = 2.392"
   ]
  },
  {
   "cell_type": "code",
   "execution_count": null,
   "id": "3809ec35",
   "metadata": {},
   "outputs": [],
   "source": [
    "df['kg_co2'] = df.apply(lambda row: (row['consume'] * co2_km_e10) if row['gas_type'] == 'E10' else (row['consume'] * co2_km_sp98), axis=1)\n",
    "df['kg_co2_km'] = df.apply(lambda row: ((row['consume'] * co2_km_e10) / row['distance']) if row['gas_type'] == 'E10' else ((row['consume'] * co2_km_sp98) / row['distance']), axis=1)"
   ]
  },
  {
   "cell_type": "markdown",
   "id": "58340e0e",
   "metadata": {},
   "source": [
    "The key variable in our study is the consume, as the standard way to estimate the cost is (consume/distance) * fuel_cost, and it's also a key parameter for estimating the CO2 emissions, which are likely the 95% of the total. Let's see if any other variable has a strong impact in the consume."
   ]
  },
  {
   "cell_type": "code",
   "execution_count": null,
   "id": "658f9f34",
   "metadata": {},
   "outputs": [],
   "source": [
    "corr = df.corr()\n",
    "mask = np.triu(np.ones_like(corr, dtype=bool))\n",
    "f, ax = plt.subplots(figsize=(11, 9))\n",
    "sns.heatmap(corr, mask=mask, annot=True, vmin=-1, vmax=1, center=0, square=True, linewidths=.5, cbar_kws={\"shrink\": .5});"
   ]
  },
  {
   "cell_type": "code",
   "execution_count": null,
   "id": "ba5b22df",
   "metadata": {},
   "outputs": [],
   "source": [
    "df.info()"
   ]
  },
  {
   "cell_type": "code",
   "execution_count": null,
   "id": "ab8f3a33",
   "metadata": {},
   "outputs": [],
   "source": [
    "df.distance = df.distance.astype(int)\n",
    "df.consume = df.consume.astype(int)\n",
    "df.temp_inside = df.temp_inside.astype(int)\n",
    "df.t_cost = df.t_cost.astype(int)\n",
    "df.b_cost = df.b_cost.astype(int)\n",
    "df.kg_co2 = df.kg_co2.astype(int)\n",
    "df.kg_co2_km = df.kg_co2_km.astype(int)"
   ]
  },
  {
   "cell_type": "code",
   "execution_count": null,
   "id": "7f2c9258",
   "metadata": {},
   "outputs": [],
   "source": [
    "df.loc[df[\"distance\"] == 1]"
   ]
  },
  {
   "cell_type": "code",
   "execution_count": null,
   "id": "c4666f60",
   "metadata": {},
   "outputs": [],
   "source": [
    "df.to_csv('../data/df.csv', index=False)"
   ]
  }
 ],
 "metadata": {
  "kernelspec": {
   "display_name": "ironhack",
   "language": "python",
   "name": "ironhack"
  },
  "language_info": {
   "codemirror_mode": {
    "name": "ipython",
    "version": 3
   },
   "file_extension": ".py",
   "mimetype": "text/x-python",
   "name": "python",
   "nbconvert_exporter": "python",
   "pygments_lexer": "ipython3",
   "version": "3.8.8"
  }
 },
 "nbformat": 4,
 "nbformat_minor": 5
}
