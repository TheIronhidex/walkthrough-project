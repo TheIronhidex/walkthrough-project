{
 "cells": [
  {
   "cell_type": "markdown",
   "id": "e6a074f0",
   "metadata": {},
   "source": [
    "# I. Setting up"
   ]
  },
  {
   "cell_type": "code",
   "execution_count": 231,
   "id": "c4db26f2",
   "metadata": {},
   "outputs": [],
   "source": [
    "import pandas as pd\n",
    "import requests, zipfile, io\n",
    "import glob\n",
    "import os\n",
    "import xml.etree.ElementTree as et\n",
    "from string import ascii_letters\n",
    "import numpy as np\n",
    "import seaborn as sns\n",
    "import matplotlib.pyplot as plt"
   ]
  },
  {
   "cell_type": "code",
   "execution_count": 232,
   "id": "8acdf11d",
   "metadata": {},
   "outputs": [],
   "source": [
    "df = pd.read_excel('../data/measurements2.xlsx')"
   ]
  },
  {
   "cell_type": "code",
   "execution_count": 233,
   "id": "36922a88",
   "metadata": {},
   "outputs": [
    {
     "data": {
      "text/html": [
       "<div>\n",
       "<style scoped>\n",
       "    .dataframe tbody tr th:only-of-type {\n",
       "        vertical-align: middle;\n",
       "    }\n",
       "\n",
       "    .dataframe tbody tr th {\n",
       "        vertical-align: top;\n",
       "    }\n",
       "\n",
       "    .dataframe thead th {\n",
       "        text-align: right;\n",
       "    }\n",
       "</style>\n",
       "<table border=\"1\" class=\"dataframe\">\n",
       "  <thead>\n",
       "    <tr style=\"text-align: right;\">\n",
       "      <th></th>\n",
       "      <th>distance</th>\n",
       "      <th>consume</th>\n",
       "      <th>speed</th>\n",
       "      <th>temp_inside</th>\n",
       "      <th>temp_outside</th>\n",
       "      <th>specials</th>\n",
       "      <th>gas_type</th>\n",
       "      <th>AC</th>\n",
       "      <th>rain</th>\n",
       "      <th>sun</th>\n",
       "      <th>refill liters</th>\n",
       "      <th>refill gas</th>\n",
       "    </tr>\n",
       "  </thead>\n",
       "  <tbody>\n",
       "    <tr>\n",
       "      <th>0</th>\n",
       "      <td>28.0</td>\n",
       "      <td>5.0</td>\n",
       "      <td>26</td>\n",
       "      <td>21.5</td>\n",
       "      <td>12</td>\n",
       "      <td>NaN</td>\n",
       "      <td>E10</td>\n",
       "      <td>0</td>\n",
       "      <td>0</td>\n",
       "      <td>0</td>\n",
       "      <td>45.0</td>\n",
       "      <td>E10</td>\n",
       "    </tr>\n",
       "    <tr>\n",
       "      <th>1</th>\n",
       "      <td>12.0</td>\n",
       "      <td>4.2</td>\n",
       "      <td>30</td>\n",
       "      <td>21.5</td>\n",
       "      <td>13</td>\n",
       "      <td>NaN</td>\n",
       "      <td>E10</td>\n",
       "      <td>0</td>\n",
       "      <td>0</td>\n",
       "      <td>0</td>\n",
       "      <td>NaN</td>\n",
       "      <td>NaN</td>\n",
       "    </tr>\n",
       "    <tr>\n",
       "      <th>2</th>\n",
       "      <td>11.2</td>\n",
       "      <td>5.5</td>\n",
       "      <td>38</td>\n",
       "      <td>21.5</td>\n",
       "      <td>15</td>\n",
       "      <td>NaN</td>\n",
       "      <td>E10</td>\n",
       "      <td>0</td>\n",
       "      <td>0</td>\n",
       "      <td>0</td>\n",
       "      <td>NaN</td>\n",
       "      <td>NaN</td>\n",
       "    </tr>\n",
       "    <tr>\n",
       "      <th>3</th>\n",
       "      <td>12.9</td>\n",
       "      <td>3.9</td>\n",
       "      <td>36</td>\n",
       "      <td>21.5</td>\n",
       "      <td>14</td>\n",
       "      <td>NaN</td>\n",
       "      <td>E10</td>\n",
       "      <td>0</td>\n",
       "      <td>0</td>\n",
       "      <td>0</td>\n",
       "      <td>NaN</td>\n",
       "      <td>NaN</td>\n",
       "    </tr>\n",
       "    <tr>\n",
       "      <th>4</th>\n",
       "      <td>18.5</td>\n",
       "      <td>4.5</td>\n",
       "      <td>46</td>\n",
       "      <td>21.5</td>\n",
       "      <td>15</td>\n",
       "      <td>NaN</td>\n",
       "      <td>E10</td>\n",
       "      <td>0</td>\n",
       "      <td>0</td>\n",
       "      <td>0</td>\n",
       "      <td>NaN</td>\n",
       "      <td>NaN</td>\n",
       "    </tr>\n",
       "    <tr>\n",
       "      <th>5</th>\n",
       "      <td>8.3</td>\n",
       "      <td>6.4</td>\n",
       "      <td>50</td>\n",
       "      <td>21.5</td>\n",
       "      <td>10</td>\n",
       "      <td>NaN</td>\n",
       "      <td>E10</td>\n",
       "      <td>0</td>\n",
       "      <td>0</td>\n",
       "      <td>0</td>\n",
       "      <td>NaN</td>\n",
       "      <td>NaN</td>\n",
       "    </tr>\n",
       "    <tr>\n",
       "      <th>6</th>\n",
       "      <td>7.8</td>\n",
       "      <td>4.4</td>\n",
       "      <td>43</td>\n",
       "      <td>21.5</td>\n",
       "      <td>11</td>\n",
       "      <td>NaN</td>\n",
       "      <td>E10</td>\n",
       "      <td>0</td>\n",
       "      <td>0</td>\n",
       "      <td>0</td>\n",
       "      <td>NaN</td>\n",
       "      <td>NaN</td>\n",
       "    </tr>\n",
       "    <tr>\n",
       "      <th>7</th>\n",
       "      <td>12.3</td>\n",
       "      <td>5.0</td>\n",
       "      <td>40</td>\n",
       "      <td>21.5</td>\n",
       "      <td>6</td>\n",
       "      <td>NaN</td>\n",
       "      <td>E10</td>\n",
       "      <td>0</td>\n",
       "      <td>0</td>\n",
       "      <td>0</td>\n",
       "      <td>NaN</td>\n",
       "      <td>NaN</td>\n",
       "    </tr>\n",
       "    <tr>\n",
       "      <th>8</th>\n",
       "      <td>4.9</td>\n",
       "      <td>6.4</td>\n",
       "      <td>26</td>\n",
       "      <td>21.5</td>\n",
       "      <td>4</td>\n",
       "      <td>NaN</td>\n",
       "      <td>E10</td>\n",
       "      <td>0</td>\n",
       "      <td>0</td>\n",
       "      <td>0</td>\n",
       "      <td>NaN</td>\n",
       "      <td>NaN</td>\n",
       "    </tr>\n",
       "    <tr>\n",
       "      <th>9</th>\n",
       "      <td>11.9</td>\n",
       "      <td>5.3</td>\n",
       "      <td>30</td>\n",
       "      <td>21.5</td>\n",
       "      <td>9</td>\n",
       "      <td>NaN</td>\n",
       "      <td>E10</td>\n",
       "      <td>0</td>\n",
       "      <td>0</td>\n",
       "      <td>0</td>\n",
       "      <td>NaN</td>\n",
       "      <td>NaN</td>\n",
       "    </tr>\n",
       "  </tbody>\n",
       "</table>\n",
       "</div>"
      ],
      "text/plain": [
       "   distance  consume  speed  temp_inside  temp_outside specials gas_type  AC  \\\n",
       "0      28.0      5.0     26         21.5            12      NaN      E10   0   \n",
       "1      12.0      4.2     30         21.5            13      NaN      E10   0   \n",
       "2      11.2      5.5     38         21.5            15      NaN      E10   0   \n",
       "3      12.9      3.9     36         21.5            14      NaN      E10   0   \n",
       "4      18.5      4.5     46         21.5            15      NaN      E10   0   \n",
       "5       8.3      6.4     50         21.5            10      NaN      E10   0   \n",
       "6       7.8      4.4     43         21.5            11      NaN      E10   0   \n",
       "7      12.3      5.0     40         21.5             6      NaN      E10   0   \n",
       "8       4.9      6.4     26         21.5             4      NaN      E10   0   \n",
       "9      11.9      5.3     30         21.5             9      NaN      E10   0   \n",
       "\n",
       "   rain  sun  refill liters refill gas  \n",
       "0     0    0           45.0        E10  \n",
       "1     0    0            NaN        NaN  \n",
       "2     0    0            NaN        NaN  \n",
       "3     0    0            NaN        NaN  \n",
       "4     0    0            NaN        NaN  \n",
       "5     0    0            NaN        NaN  \n",
       "6     0    0            NaN        NaN  \n",
       "7     0    0            NaN        NaN  \n",
       "8     0    0            NaN        NaN  \n",
       "9     0    0            NaN        NaN  "
      ]
     },
     "execution_count": 233,
     "metadata": {},
     "output_type": "execute_result"
    }
   ],
   "source": [
    "df.head(10)"
   ]
  },
  {
   "cell_type": "code",
   "execution_count": 234,
   "id": "d2869bb6",
   "metadata": {},
   "outputs": [
    {
     "data": {
      "text/plain": [
       "array(['E10', 'SP98'], dtype=object)"
      ]
     },
     "execution_count": 234,
     "metadata": {},
     "output_type": "execute_result"
    }
   ],
   "source": [
    "df['gas_type'].unique()"
   ]
  },
  {
   "cell_type": "code",
   "execution_count": 235,
   "id": "5146b96e",
   "metadata": {},
   "outputs": [
    {
     "data": {
      "text/plain": [
       "array([nan, 'AC rain', 'AC', 'rain', 'snow', 'AC snow',\n",
       "       'half rain half sun', 'sun', 'AC sun', 'sun ac', 'ac', 'AC Sun',\n",
       "       'ac rain'], dtype=object)"
      ]
     },
     "execution_count": 235,
     "metadata": {},
     "output_type": "execute_result"
    }
   ],
   "source": [
    "df['specials'].unique()"
   ]
  },
  {
   "cell_type": "code",
   "execution_count": 236,
   "id": "fe52c422",
   "metadata": {},
   "outputs": [
    {
     "data": {
      "text/plain": [
       "array([0, 1])"
      ]
     },
     "execution_count": 236,
     "metadata": {},
     "output_type": "execute_result"
    }
   ],
   "source": [
    "df['AC'].unique()"
   ]
  },
  {
   "cell_type": "code",
   "execution_count": 237,
   "id": "6f6f0f87",
   "metadata": {},
   "outputs": [
    {
     "data": {
      "text/plain": [
       "array(['E10', nan, 'SP98'], dtype=object)"
      ]
     },
     "execution_count": 237,
     "metadata": {},
     "output_type": "execute_result"
    }
   ],
   "source": [
    "df['refill gas'].unique()"
   ]
  },
  {
   "cell_type": "code",
   "execution_count": 238,
   "id": "383358a5",
   "metadata": {},
   "outputs": [
    {
     "data": {
      "text/html": [
       "<div>\n",
       "<style scoped>\n",
       "    .dataframe tbody tr th:only-of-type {\n",
       "        vertical-align: middle;\n",
       "    }\n",
       "\n",
       "    .dataframe tbody tr th {\n",
       "        vertical-align: top;\n",
       "    }\n",
       "\n",
       "    .dataframe thead th {\n",
       "        text-align: right;\n",
       "    }\n",
       "</style>\n",
       "<table border=\"1\" class=\"dataframe\">\n",
       "  <thead>\n",
       "    <tr style=\"text-align: right;\">\n",
       "      <th></th>\n",
       "      <th>distance</th>\n",
       "      <th>consume</th>\n",
       "      <th>speed</th>\n",
       "      <th>temp_inside</th>\n",
       "      <th>temp_outside</th>\n",
       "      <th>specials</th>\n",
       "      <th>gas_type</th>\n",
       "      <th>AC</th>\n",
       "      <th>rain</th>\n",
       "      <th>sun</th>\n",
       "      <th>refill liters</th>\n",
       "      <th>refill gas</th>\n",
       "    </tr>\n",
       "  </thead>\n",
       "  <tbody>\n",
       "    <tr>\n",
       "      <th>0</th>\n",
       "      <td>28.0</td>\n",
       "      <td>5.0</td>\n",
       "      <td>26</td>\n",
       "      <td>21.5</td>\n",
       "      <td>12</td>\n",
       "      <td>NaN</td>\n",
       "      <td>E10</td>\n",
       "      <td>0</td>\n",
       "      <td>0</td>\n",
       "      <td>0</td>\n",
       "      <td>45.0</td>\n",
       "      <td>E10</td>\n",
       "    </tr>\n",
       "    <tr>\n",
       "      <th>139</th>\n",
       "      <td>16.1</td>\n",
       "      <td>5.4</td>\n",
       "      <td>24</td>\n",
       "      <td>21.5</td>\n",
       "      <td>7</td>\n",
       "      <td>rain</td>\n",
       "      <td>E10</td>\n",
       "      <td>0</td>\n",
       "      <td>1</td>\n",
       "      <td>0</td>\n",
       "      <td>38.0</td>\n",
       "      <td>E10</td>\n",
       "    </tr>\n",
       "    <tr>\n",
       "      <th>171</th>\n",
       "      <td>44.4</td>\n",
       "      <td>4.8</td>\n",
       "      <td>38</td>\n",
       "      <td>21.5</td>\n",
       "      <td>8</td>\n",
       "      <td>NaN</td>\n",
       "      <td>E10</td>\n",
       "      <td>0</td>\n",
       "      <td>0</td>\n",
       "      <td>0</td>\n",
       "      <td>38.3</td>\n",
       "      <td>E10</td>\n",
       "    </tr>\n",
       "    <tr>\n",
       "      <th>234</th>\n",
       "      <td>19.0</td>\n",
       "      <td>4.5</td>\n",
       "      <td>29</td>\n",
       "      <td>22.5</td>\n",
       "      <td>10</td>\n",
       "      <td>NaN</td>\n",
       "      <td>E10</td>\n",
       "      <td>0</td>\n",
       "      <td>0</td>\n",
       "      <td>0</td>\n",
       "      <td>39.0</td>\n",
       "      <td>E10</td>\n",
       "    </tr>\n",
       "    <tr>\n",
       "      <th>325</th>\n",
       "      <td>16.6</td>\n",
       "      <td>3.7</td>\n",
       "      <td>49</td>\n",
       "      <td>22.0</td>\n",
       "      <td>17</td>\n",
       "      <td>NaN</td>\n",
       "      <td>E10</td>\n",
       "      <td>0</td>\n",
       "      <td>0</td>\n",
       "      <td>0</td>\n",
       "      <td>37.7</td>\n",
       "      <td>E10</td>\n",
       "    </tr>\n",
       "  </tbody>\n",
       "</table>\n",
       "</div>"
      ],
      "text/plain": [
       "     distance  consume  speed  temp_inside  temp_outside specials gas_type  \\\n",
       "0        28.0      5.0     26         21.5            12      NaN      E10   \n",
       "139      16.1      5.4     24         21.5             7     rain      E10   \n",
       "171      44.4      4.8     38         21.5             8      NaN      E10   \n",
       "234      19.0      4.5     29         22.5            10      NaN      E10   \n",
       "325      16.6      3.7     49         22.0            17      NaN      E10   \n",
       "\n",
       "     AC  rain  sun  refill liters refill gas  \n",
       "0     0     0    0           45.0        E10  \n",
       "139   0     1    0           38.0        E10  \n",
       "171   0     0    0           38.3        E10  \n",
       "234   0     0    0           39.0        E10  \n",
       "325   0     0    0           37.7        E10  "
      ]
     },
     "execution_count": 238,
     "metadata": {},
     "output_type": "execute_result"
    }
   ],
   "source": [
    "df.loc[df[\"refill gas\"] == \"E10\"]"
   ]
  },
  {
   "cell_type": "code",
   "execution_count": 239,
   "id": "9636654e",
   "metadata": {},
   "outputs": [
    {
     "data": {
      "text/html": [
       "<div>\n",
       "<style scoped>\n",
       "    .dataframe tbody tr th:only-of-type {\n",
       "        vertical-align: middle;\n",
       "    }\n",
       "\n",
       "    .dataframe tbody tr th {\n",
       "        vertical-align: top;\n",
       "    }\n",
       "\n",
       "    .dataframe thead th {\n",
       "        text-align: right;\n",
       "    }\n",
       "</style>\n",
       "<table border=\"1\" class=\"dataframe\">\n",
       "  <thead>\n",
       "    <tr style=\"text-align: right;\">\n",
       "      <th></th>\n",
       "      <th>distance</th>\n",
       "      <th>consume</th>\n",
       "      <th>speed</th>\n",
       "      <th>temp_inside</th>\n",
       "      <th>temp_outside</th>\n",
       "      <th>AC</th>\n",
       "      <th>rain</th>\n",
       "      <th>sun</th>\n",
       "      <th>refill liters</th>\n",
       "    </tr>\n",
       "  </thead>\n",
       "  <tbody>\n",
       "    <tr>\n",
       "      <th>count</th>\n",
       "      <td>388.000000</td>\n",
       "      <td>388.000000</td>\n",
       "      <td>388.000000</td>\n",
       "      <td>376.000000</td>\n",
       "      <td>388.000000</td>\n",
       "      <td>388.000000</td>\n",
       "      <td>388.000000</td>\n",
       "      <td>388.000000</td>\n",
       "      <td>13.000000</td>\n",
       "    </tr>\n",
       "    <tr>\n",
       "      <th>mean</th>\n",
       "      <td>19.652835</td>\n",
       "      <td>4.912371</td>\n",
       "      <td>41.927835</td>\n",
       "      <td>21.929521</td>\n",
       "      <td>11.358247</td>\n",
       "      <td>0.077320</td>\n",
       "      <td>0.123711</td>\n",
       "      <td>0.082474</td>\n",
       "      <td>37.115385</td>\n",
       "    </tr>\n",
       "    <tr>\n",
       "      <th>std</th>\n",
       "      <td>22.667837</td>\n",
       "      <td>1.033172</td>\n",
       "      <td>13.598524</td>\n",
       "      <td>1.010455</td>\n",
       "      <td>6.991542</td>\n",
       "      <td>0.267443</td>\n",
       "      <td>0.329677</td>\n",
       "      <td>0.275441</td>\n",
       "      <td>8.587282</td>\n",
       "    </tr>\n",
       "    <tr>\n",
       "      <th>min</th>\n",
       "      <td>1.300000</td>\n",
       "      <td>3.300000</td>\n",
       "      <td>14.000000</td>\n",
       "      <td>19.000000</td>\n",
       "      <td>-5.000000</td>\n",
       "      <td>0.000000</td>\n",
       "      <td>0.000000</td>\n",
       "      <td>0.000000</td>\n",
       "      <td>10.000000</td>\n",
       "    </tr>\n",
       "    <tr>\n",
       "      <th>25%</th>\n",
       "      <td>11.800000</td>\n",
       "      <td>4.300000</td>\n",
       "      <td>32.750000</td>\n",
       "      <td>21.500000</td>\n",
       "      <td>7.000000</td>\n",
       "      <td>0.000000</td>\n",
       "      <td>0.000000</td>\n",
       "      <td>0.000000</td>\n",
       "      <td>37.600000</td>\n",
       "    </tr>\n",
       "    <tr>\n",
       "      <th>50%</th>\n",
       "      <td>14.600000</td>\n",
       "      <td>4.700000</td>\n",
       "      <td>40.500000</td>\n",
       "      <td>22.000000</td>\n",
       "      <td>10.000000</td>\n",
       "      <td>0.000000</td>\n",
       "      <td>0.000000</td>\n",
       "      <td>0.000000</td>\n",
       "      <td>38.000000</td>\n",
       "    </tr>\n",
       "    <tr>\n",
       "      <th>75%</th>\n",
       "      <td>19.000000</td>\n",
       "      <td>5.300000</td>\n",
       "      <td>50.000000</td>\n",
       "      <td>22.500000</td>\n",
       "      <td>16.000000</td>\n",
       "      <td>0.000000</td>\n",
       "      <td>0.000000</td>\n",
       "      <td>0.000000</td>\n",
       "      <td>39.000000</td>\n",
       "    </tr>\n",
       "    <tr>\n",
       "      <th>max</th>\n",
       "      <td>216.100000</td>\n",
       "      <td>12.200000</td>\n",
       "      <td>90.000000</td>\n",
       "      <td>25.500000</td>\n",
       "      <td>31.000000</td>\n",
       "      <td>1.000000</td>\n",
       "      <td>1.000000</td>\n",
       "      <td>1.000000</td>\n",
       "      <td>45.000000</td>\n",
       "    </tr>\n",
       "  </tbody>\n",
       "</table>\n",
       "</div>"
      ],
      "text/plain": [
       "         distance     consume       speed  temp_inside  temp_outside  \\\n",
       "count  388.000000  388.000000  388.000000   376.000000    388.000000   \n",
       "mean    19.652835    4.912371   41.927835    21.929521     11.358247   \n",
       "std     22.667837    1.033172   13.598524     1.010455      6.991542   \n",
       "min      1.300000    3.300000   14.000000    19.000000     -5.000000   \n",
       "25%     11.800000    4.300000   32.750000    21.500000      7.000000   \n",
       "50%     14.600000    4.700000   40.500000    22.000000     10.000000   \n",
       "75%     19.000000    5.300000   50.000000    22.500000     16.000000   \n",
       "max    216.100000   12.200000   90.000000    25.500000     31.000000   \n",
       "\n",
       "               AC        rain         sun  refill liters  \n",
       "count  388.000000  388.000000  388.000000      13.000000  \n",
       "mean     0.077320    0.123711    0.082474      37.115385  \n",
       "std      0.267443    0.329677    0.275441       8.587282  \n",
       "min      0.000000    0.000000    0.000000      10.000000  \n",
       "25%      0.000000    0.000000    0.000000      37.600000  \n",
       "50%      0.000000    0.000000    0.000000      38.000000  \n",
       "75%      0.000000    0.000000    0.000000      39.000000  \n",
       "max      1.000000    1.000000    1.000000      45.000000  "
      ]
     },
     "execution_count": 239,
     "metadata": {},
     "output_type": "execute_result"
    }
   ],
   "source": [
    "df.describe()"
   ]
  },
  {
   "cell_type": "code",
   "execution_count": 240,
   "id": "65ff18da",
   "metadata": {},
   "outputs": [
    {
     "name": "stdout",
     "output_type": "stream",
     "text": [
      "<class 'pandas.core.frame.DataFrame'>\n",
      "RangeIndex: 388 entries, 0 to 387\n",
      "Data columns (total 12 columns):\n",
      " #   Column         Non-Null Count  Dtype  \n",
      "---  ------         --------------  -----  \n",
      " 0   distance       388 non-null    float64\n",
      " 1   consume        388 non-null    float64\n",
      " 2   speed          388 non-null    int64  \n",
      " 3   temp_inside    376 non-null    float64\n",
      " 4   temp_outside   388 non-null    int64  \n",
      " 5   specials       93 non-null     object \n",
      " 6   gas_type       388 non-null    object \n",
      " 7   AC             388 non-null    int64  \n",
      " 8   rain           388 non-null    int64  \n",
      " 9   sun            388 non-null    int64  \n",
      " 10  refill liters  13 non-null     float64\n",
      " 11  refill gas     13 non-null     object \n",
      "dtypes: float64(4), int64(5), object(3)\n",
      "memory usage: 36.5+ KB\n"
     ]
    }
   ],
   "source": [
    "df.info()"
   ]
  },
  {
   "cell_type": "markdown",
   "id": "2f4db44a",
   "metadata": {},
   "source": [
    "###### Let's see what we have:\n",
    "- The distance seems to be in (km), the consume in (liters), the speed in (km/h), the temperature in (ºC).\n",
    "- We have information about two types of fuel, lead free 98 and lead free 95 plus a maximum of 10% of ethanol.\n",
    "- The range in distance, considering the mean is much larger than the range in consume. Besides the standard deviation is quite big here. We need to check this (I.a).\n",
    "- The information about the refillment seems disposable, as we cannot know if the total consume of a trip was estimated before of after refueling the car, and there are no changes in the fuel than was loaded. We will discard these columns (I.b).\n",
    "- We have 6 columns with parameters about the weather and its impact on the behaviour of the car, like if the air-conditioning (AC) was on. The purpose here will be to determine if these parameters have a noticeable impact on the fuel consumption (III.a)."
   ]
  },
  {
   "cell_type": "markdown",
   "id": "38516ef3",
   "metadata": {},
   "source": [
    "### I.a Check the relation between distance and consume"
   ]
  },
  {
   "cell_type": "code",
   "execution_count": 241,
   "id": "76191791",
   "metadata": {},
   "outputs": [
    {
     "data": {
      "image/png": "[encoded data removed]",
      "text/plain": [
       "<Figure size 864x432 with 1 Axes>"
      ]
     },
     "metadata": {
      "needs_background": "light"
     },
     "output_type": "display_data"
    },
    {
     "data": {
      "image/png": "[encoded data removed]",
      "text/plain": [
       "<Figure size 432x288 with 1 Axes>"
      ]
     },
     "metadata": {
      "needs_background": "light"
     },
     "output_type": "display_data"
    }
   ],
   "source": [
    "x = df.distance.values\n",
    "y = df.consume.values\n",
    "m, b = np.polyfit(x, y, 1)\n",
    "fig, ax = plt.subplots(figsize=(12, 6))\n",
    "\n",
    "plt.scatter(x, y, alpha=0.4)\n",
    "plt.title('Dispersion of distance-consume', size=13)\n",
    "plt.xlabel('Kilometers')\n",
    "plt.ylabel('Liters')\n",
    "plt.plot(x, m*x + b)\n",
    "plt.show();\n",
    "\n",
    "plt.hist(y, bins=20)\n",
    "plt.axvline(np.median(y),\n",
    "            c=\"red\",\n",
    "            linewidth= 3.,\n",
    "            linestyle='--')\n",
    "plt.axvline(np.mean(y),\n",
    "            c=\"blue\",\n",
    "            linewidth= 3.,\n",
    "            linestyle='--')\n",
    "plt.title('Histogram of fuel consumption', size=13)\n",
    "plt.xlabel('Liters')\n",
    "plt.ylabel('Frequency')\n",
    "plt.show();"
   ]
  },
  {
   "cell_type": "code",
   "execution_count": 242,
   "id": "245c5adb",
   "metadata": {},
   "outputs": [
    {
     "data": {
      "text/plain": [
       "4.912371134020614"
      ]
     },
     "execution_count": 242,
     "metadata": {},
     "output_type": "execute_result"
    }
   ],
   "source": [
    "df.consume.mean()"
   ]
  },
  {
   "cell_type": "code",
   "execution_count": 329,
   "id": "9afea8eb",
   "metadata": {},
   "outputs": [
    {
     "data": {
      "text/html": [
       "<div>\n",
       "<style scoped>\n",
       "    .dataframe tbody tr th:only-of-type {\n",
       "        vertical-align: middle;\n",
       "    }\n",
       "\n",
       "    .dataframe tbody tr th {\n",
       "        vertical-align: top;\n",
       "    }\n",
       "\n",
       "    .dataframe thead th {\n",
       "        text-align: right;\n",
       "    }\n",
       "</style>\n",
       "<table border=\"1\" class=\"dataframe\">\n",
       "  <thead>\n",
       "    <tr style=\"text-align: right;\">\n",
       "      <th></th>\n",
       "      <th>distance</th>\n",
       "      <th>consume</th>\n",
       "      <th>speed</th>\n",
       "      <th>temp_inside</th>\n",
       "      <th>temp_outside</th>\n",
       "      <th>gas_type</th>\n",
       "      <th>AC</th>\n",
       "      <th>rain</th>\n",
       "      <th>sun</th>\n",
       "    </tr>\n",
       "  </thead>\n",
       "  <tbody>\n",
       "    <tr>\n",
       "      <th>1</th>\n",
       "      <td>12.0</td>\n",
       "      <td>4.2</td>\n",
       "      <td>30</td>\n",
       "      <td>21.5</td>\n",
       "      <td>13</td>\n",
       "      <td>E10</td>\n",
       "      <td>0</td>\n",
       "      <td>0</td>\n",
       "      <td>0</td>\n",
       "    </tr>\n",
       "    <tr>\n",
       "      <th>2</th>\n",
       "      <td>11.2</td>\n",
       "      <td>5.5</td>\n",
       "      <td>38</td>\n",
       "      <td>21.5</td>\n",
       "      <td>15</td>\n",
       "      <td>E10</td>\n",
       "      <td>0</td>\n",
       "      <td>0</td>\n",
       "      <td>0</td>\n",
       "    </tr>\n",
       "    <tr>\n",
       "      <th>6</th>\n",
       "      <td>7.8</td>\n",
       "      <td>4.4</td>\n",
       "      <td>43</td>\n",
       "      <td>21.5</td>\n",
       "      <td>11</td>\n",
       "      <td>E10</td>\n",
       "      <td>0</td>\n",
       "      <td>0</td>\n",
       "      <td>0</td>\n",
       "    </tr>\n",
       "  </tbody>\n",
       "</table>\n",
       "</div>"
      ],
      "text/plain": [
       "   distance  consume  speed  temp_inside  temp_outside gas_type  AC  rain  sun\n",
       "1      12.0      4.2     30         21.5            13      E10   0     0    0\n",
       "2      11.2      5.5     38         21.5            15      E10   0     0    0\n",
       "6       7.8      4.4     43         21.5            11      E10   0     0    0"
      ]
     },
     "execution_count": 329,
     "metadata": {},
     "output_type": "execute_result"
    }
   ],
   "source": [
    "df.head(3)"
   ]
  },
  {
   "cell_type": "code",
   "execution_count": 244,
   "id": "5a773fdb",
   "metadata": {},
   "outputs": [
    {
     "data": {
      "text/plain": [
       "6.3649999999999975"
      ]
     },
     "execution_count": 244,
     "metadata": {},
     "output_type": "execute_result"
    }
   ],
   "source": [
    "df.consume.quantile(0.95)"
   ]
  },
  {
   "cell_type": "code",
   "execution_count": 245,
   "id": "2dc7498e",
   "metadata": {},
   "outputs": [
    {
     "data": {
      "text/plain": [
       "19.65283505154639"
      ]
     },
     "execution_count": 245,
     "metadata": {},
     "output_type": "execute_result"
    }
   ],
   "source": [
    "df.distance.mean()"
   ]
  },
  {
   "cell_type": "code",
   "execution_count": 246,
   "id": "dd5fcab7",
   "metadata": {},
   "outputs": [
    {
     "data": {
      "text/plain": [
       "42.93999999999996"
      ]
     },
     "execution_count": 246,
     "metadata": {},
     "output_type": "execute_result"
    }
   ],
   "source": [
    "df.distance.quantile(0.95)"
   ]
  },
  {
   "cell_type": "code",
   "execution_count": 255,
   "id": "805c73eb",
   "metadata": {},
   "outputs": [],
   "source": [
    "indexNames1 = df[df['distance'] >= 12.45].index\n",
    "df.drop(indexNames1, inplace=True)\n",
    "\n",
    "indexNames2 = df[df['consume'] >= 6.364].index\n",
    "df.drop(indexNames2, inplace=True)"
   ]
  },
  {
   "cell_type": "code",
   "execution_count": 259,
   "id": "84c4e32a",
   "metadata": {},
   "outputs": [
    {
     "data": {
      "image/png": "[encoded data removed]",
      "text/plain": [
       "<Figure size 432x288 with 1 Axes>"
      ]
     },
     "metadata": {
      "needs_background": "light"
     },
     "output_type": "display_data"
    }
   ],
   "source": [
    "x = df.distance.values\n",
    "y = df.consume.values\n",
    "plt.scatter(x, y, alpha=0.4)\n",
    "plt.title('Dispersion of distance-consume', size=13)\n",
    "plt.xlabel('Kilometers')\n",
    "plt.ylabel('Liters')\n",
    "plt.plot(x, m*x + b)\n",
    "plt.show();"
   ]
  },
  {
   "cell_type": "markdown",
   "id": "74eb6944",
   "metadata": {},
   "source": [
    "##### So now we have removed the 0.05 % of the data that was giving us wrong measures. Of course we are suppossing that all the cars had performed equally, which is impossible, but it's useful for estimating the average consumption of fuel."
   ]
  },
  {
   "cell_type": "markdown",
   "id": "df7be5d4",
   "metadata": {},
   "source": [
    "### I.b Remove unnecessary columns and clean NaNs."
   ]
  },
  {
   "cell_type": "code",
   "execution_count": 260,
   "id": "f45eef65",
   "metadata": {},
   "outputs": [],
   "source": [
    "df.drop(['refill liters', 'refill gas'], axis=1, inplace=True)"
   ]
  },
  {
   "cell_type": "code",
   "execution_count": 263,
   "id": "43722463",
   "metadata": {},
   "outputs": [
    {
     "data": {
      "text/plain": [
       "distance          0\n",
       "consume           0\n",
       "speed             0\n",
       "temp_inside       4\n",
       "temp_outside      0\n",
       "specials        108\n",
       "gas_type          0\n",
       "AC                0\n",
       "rain              0\n",
       "sun               0\n",
       "dtype: int64"
      ]
     },
     "execution_count": 263,
     "metadata": {},
     "output_type": "execute_result"
    }
   ],
   "source": [
    "df.isnull().sum()"
   ]
  },
  {
   "cell_type": "code",
   "execution_count": 277,
   "id": "e2202451",
   "metadata": {},
   "outputs": [
    {
     "data": {
      "text/plain": [
       "21.5"
      ]
     },
     "execution_count": 277,
     "metadata": {},
     "output_type": "execute_result"
    }
   ],
   "source": [
    "df['temp_inside'].median()"
   ]
  },
  {
   "cell_type": "code",
   "execution_count": 278,
   "id": "c06b5b71",
   "metadata": {},
   "outputs": [
    {
     "data": {
      "text/plain": [
       "0    21.5\n",
       "dtype: float64"
      ]
     },
     "execution_count": 278,
     "metadata": {},
     "output_type": "execute_result"
    }
   ],
   "source": [
    "df['temp_inside'].mode()"
   ]
  },
  {
   "cell_type": "code",
   "execution_count": 279,
   "id": "3ee3a757",
   "metadata": {},
   "outputs": [
    {
     "data": {
      "text/plain": [
       "21.83955223880597"
      ]
     },
     "execution_count": 279,
     "metadata": {},
     "output_type": "execute_result"
    }
   ],
   "source": [
    "df['temp_inside'].mean()"
   ]
  },
  {
   "cell_type": "code",
   "execution_count": 280,
   "id": "c1278616",
   "metadata": {},
   "outputs": [],
   "source": [
    "df['temp_inside'] = df['temp_inside'].fillna(21.5)"
   ]
  },
  {
   "cell_type": "code",
   "execution_count": 282,
   "id": "cd367197",
   "metadata": {},
   "outputs": [
    {
     "data": {
      "text/plain": [
       "array([nan, 'AC rain', 'AC', 'rain', 'snow', 'sun'], dtype=object)"
      ]
     },
     "execution_count": 282,
     "metadata": {},
     "output_type": "execute_result"
    }
   ],
   "source": [
    "df['specials'].unique()"
   ]
  },
  {
   "cell_type": "code",
   "execution_count": 285,
   "id": "c3ead185",
   "metadata": {},
   "outputs": [
    {
     "data": {
      "text/html": [
       "<div>\n",
       "<style scoped>\n",
       "    .dataframe tbody tr th:only-of-type {\n",
       "        vertical-align: middle;\n",
       "    }\n",
       "\n",
       "    .dataframe tbody tr th {\n",
       "        vertical-align: top;\n",
       "    }\n",
       "\n",
       "    .dataframe thead th {\n",
       "        text-align: right;\n",
       "    }\n",
       "</style>\n",
       "<table border=\"1\" class=\"dataframe\">\n",
       "  <thead>\n",
       "    <tr style=\"text-align: right;\">\n",
       "      <th></th>\n",
       "      <th>distance</th>\n",
       "      <th>consume</th>\n",
       "      <th>speed</th>\n",
       "      <th>temp_inside</th>\n",
       "      <th>temp_outside</th>\n",
       "      <th>specials</th>\n",
       "      <th>gas_type</th>\n",
       "      <th>AC</th>\n",
       "      <th>rain</th>\n",
       "      <th>sun</th>\n",
       "    </tr>\n",
       "  </thead>\n",
       "  <tbody>\n",
       "    <tr>\n",
       "      <th>204</th>\n",
       "      <td>8.7</td>\n",
       "      <td>5.3</td>\n",
       "      <td>28</td>\n",
       "      <td>22.5</td>\n",
       "      <td>12</td>\n",
       "      <td>AC rain</td>\n",
       "      <td>SP98</td>\n",
       "      <td>1</td>\n",
       "      <td>1</td>\n",
       "      <td>0</td>\n",
       "    </tr>\n",
       "  </tbody>\n",
       "</table>\n",
       "</div>"
      ],
      "text/plain": [
       "     distance  consume  speed  temp_inside  temp_outside specials gas_type  \\\n",
       "204       8.7      5.3     28         22.5            12  AC rain     SP98   \n",
       "\n",
       "     AC  rain  sun  \n",
       "204   1     1    0  "
      ]
     },
     "execution_count": 285,
     "metadata": {},
     "output_type": "execute_result"
    }
   ],
   "source": [
    "df[df['specials'] == 'AC rain'].sample()"
   ]
  },
  {
   "cell_type": "code",
   "execution_count": 290,
   "id": "bc50fe55",
   "metadata": {},
   "outputs": [
    {
     "data": {
      "text/html": [
       "<div>\n",
       "<style scoped>\n",
       "    .dataframe tbody tr th:only-of-type {\n",
       "        vertical-align: middle;\n",
       "    }\n",
       "\n",
       "    .dataframe tbody tr th {\n",
       "        vertical-align: top;\n",
       "    }\n",
       "\n",
       "    .dataframe thead th {\n",
       "        text-align: right;\n",
       "    }\n",
       "</style>\n",
       "<table border=\"1\" class=\"dataframe\">\n",
       "  <thead>\n",
       "    <tr style=\"text-align: right;\">\n",
       "      <th></th>\n",
       "      <th>distance</th>\n",
       "      <th>consume</th>\n",
       "      <th>speed</th>\n",
       "      <th>temp_inside</th>\n",
       "      <th>temp_outside</th>\n",
       "      <th>specials</th>\n",
       "      <th>gas_type</th>\n",
       "      <th>AC</th>\n",
       "      <th>rain</th>\n",
       "      <th>sun</th>\n",
       "    </tr>\n",
       "  </thead>\n",
       "  <tbody>\n",
       "    <tr>\n",
       "      <th>52</th>\n",
       "      <td>11.6</td>\n",
       "      <td>4.2</td>\n",
       "      <td>61</td>\n",
       "      <td>21.5</td>\n",
       "      <td>7</td>\n",
       "      <td>NaN</td>\n",
       "      <td>SP98</td>\n",
       "      <td>0</td>\n",
       "      <td>0</td>\n",
       "      <td>0</td>\n",
       "    </tr>\n",
       "  </tbody>\n",
       "</table>\n",
       "</div>"
      ],
      "text/plain": [
       "    distance  consume  speed  temp_inside  temp_outside specials gas_type  AC  \\\n",
       "52      11.6      4.2     61         21.5             7      NaN     SP98   0   \n",
       "\n",
       "    rain  sun  \n",
       "52     0    0  "
      ]
     },
     "execution_count": 290,
     "metadata": {},
     "output_type": "execute_result"
    }
   ],
   "source": [
    "df[df['specials'].isna()].sample()"
   ]
  },
  {
   "cell_type": "code",
   "execution_count": 291,
   "id": "85ae6fe4",
   "metadata": {},
   "outputs": [],
   "source": [
    "df.drop(['specials'], axis=1, inplace=True)"
   ]
  },
  {
   "cell_type": "markdown",
   "id": "64f9be14",
   "metadata": {},
   "source": [
    "# II. Enriching the data"
   ]
  },
  {
   "cell_type": "markdown",
   "id": "c3ede7ce",
   "metadata": {},
   "source": [
    "## II.a Fuel price"
   ]
  },
  {
   "cell_type": "markdown",
   "id": "e7dc00c5",
   "metadata": {},
   "source": [
    "##### Let's get now some aditional information about the prices of the fuel and the potential impact on the environment, as the car performance is not the only parameter we can consider for our analysis."
   ]
  },
  {
   "cell_type": "code",
   "execution_count": 292,
   "id": "df6161d4",
   "metadata": {},
   "outputs": [],
   "source": [
    "r = requests.get('https://donnees.roulez-eco.fr/opendata/jour')\n",
    "z = zipfile.ZipFile(io.BytesIO(r.content))\n",
    "z.extractall(\"../data/\")"
   ]
  },
  {
   "cell_type": "markdown",
   "id": "80fea893",
   "metadata": {},
   "source": [
    "##### From the URL above we can get an .xml file containing the last available prices of both types of fuels in every gas station at France. We don't know where is the company operating, but from that info we can get a map with the cheapest operational areas according to the type of fuel, which may hold potential interest for the company.\n",
    "\n",
    "##### For now let's just extract the average price of each type of fuel so we can get a general estimation."
   ]
  },
  {
   "cell_type": "code",
   "execution_count": 293,
   "id": "64a9c01c",
   "metadata": {},
   "outputs": [],
   "source": [
    "os.chdir(\"../data\")"
   ]
  },
  {
   "cell_type": "code",
   "execution_count": 294,
   "id": "870fc570",
   "metadata": {},
   "outputs": [],
   "source": [
    "xml_file = glob.glob(\"*.xml\")\n",
    "xtree = et.parse(xml_file[0])\n",
    "xroot = xtree.getroot()"
   ]
  },
  {
   "cell_type": "code",
   "execution_count": 295,
   "id": "d74fd052",
   "metadata": {},
   "outputs": [],
   "source": [
    "name = []\n",
    "for node in xroot.iter('prix'): \n",
    "    name.append(node.attrib.get(\"nom\"))"
   ]
  },
  {
   "cell_type": "code",
   "execution_count": 296,
   "id": "c984c846",
   "metadata": {},
   "outputs": [],
   "source": [
    "price = []\n",
    "for node in xroot.iter('prix'): \n",
    "    price.append(node.attrib.get(\"valeur\"))"
   ]
  },
  {
   "cell_type": "code",
   "execution_count": 299,
   "id": "d0a33b69",
   "metadata": {},
   "outputs": [],
   "source": [
    "price_dict = {\"name\":name, \"price\":price}\n",
    "price = pd.DataFrame(price_dict, columns=(\"name\",\"price\"))"
   ]
  },
  {
   "cell_type": "code",
   "execution_count": 306,
   "id": "eb19b32f",
   "metadata": {},
   "outputs": [
    {
     "data": {
      "text/plain": [
       "array(['Gazole', 'SP95', 'SP98', 'GPLc', 'E10', 'E85'], dtype=object)"
      ]
     },
     "execution_count": 306,
     "metadata": {},
     "output_type": "execute_result"
    }
   ],
   "source": [
    "price.name.unique()"
   ]
  },
  {
   "cell_type": "code",
   "execution_count": 318,
   "id": "6cf919cf",
   "metadata": {},
   "outputs": [
    {
     "name": "stdout",
     "output_type": "stream",
     "text": [
      "<class 'pandas.core.frame.DataFrame'>\n",
      "RangeIndex: 33183 entries, 0 to 33182\n",
      "Data columns (total 2 columns):\n",
      " #   Column  Non-Null Count  Dtype \n",
      "---  ------  --------------  ----- \n",
      " 0   name    33183 non-null  object\n",
      " 1   price   33183 non-null  object\n",
      "dtypes: object(2)\n",
      "memory usage: 518.6+ KB\n"
     ]
    }
   ],
   "source": [
    "price.info()"
   ]
  },
  {
   "cell_type": "code",
   "execution_count": 320,
   "id": "16d02d64",
   "metadata": {},
   "outputs": [],
   "source": [
    "price['price'] = price['price'].astype('int')"
   ]
  },
  {
   "cell_type": "code",
   "execution_count": 322,
   "id": "04bdb8a7",
   "metadata": {},
   "outputs": [],
   "source": [
    "price['price'] = price['price'] / 1000"
   ]
  },
  {
   "cell_type": "code",
   "execution_count": 324,
   "id": "e2919cb0",
   "metadata": {},
   "outputs": [
    {
     "data": {
      "text/html": [
       "<div>\n",
       "<style scoped>\n",
       "    .dataframe tbody tr th:only-of-type {\n",
       "        vertical-align: middle;\n",
       "    }\n",
       "\n",
       "    .dataframe tbody tr th {\n",
       "        vertical-align: top;\n",
       "    }\n",
       "\n",
       "    .dataframe thead th {\n",
       "        text-align: right;\n",
       "    }\n",
       "</style>\n",
       "<table border=\"1\" class=\"dataframe\">\n",
       "  <thead>\n",
       "    <tr style=\"text-align: right;\">\n",
       "      <th></th>\n",
       "      <th>price</th>\n",
       "    </tr>\n",
       "    <tr>\n",
       "      <th>name</th>\n",
       "      <th></th>\n",
       "    </tr>\n",
       "  </thead>\n",
       "  <tbody>\n",
       "    <tr>\n",
       "      <th>E10</th>\n",
       "      <td>1.817104</td>\n",
       "    </tr>\n",
       "    <tr>\n",
       "      <th>E85</th>\n",
       "      <td>0.799041</td>\n",
       "    </tr>\n",
       "    <tr>\n",
       "      <th>GPLc</th>\n",
       "      <td>0.930988</td>\n",
       "    </tr>\n",
       "    <tr>\n",
       "      <th>Gazole</th>\n",
       "      <td>1.769265</td>\n",
       "    </tr>\n",
       "    <tr>\n",
       "      <th>SP95</th>\n",
       "      <td>1.849589</td>\n",
       "    </tr>\n",
       "    <tr>\n",
       "      <th>SP98</th>\n",
       "      <td>1.901638</td>\n",
       "    </tr>\n",
       "  </tbody>\n",
       "</table>\n",
       "</div>"
      ],
      "text/plain": [
       "           price\n",
       "name            \n",
       "E10     1.817104\n",
       "E85     0.799041\n",
       "GPLc    0.930988\n",
       "Gazole  1.769265\n",
       "SP95    1.849589\n",
       "SP98    1.901638"
      ]
     },
     "execution_count": 324,
     "metadata": {},
     "output_type": "execute_result"
    }
   ],
   "source": [
    "price.groupby(['name']).mean() # euros/litre"
   ]
  },
  {
   "cell_type": "code",
   "execution_count": 325,
   "id": "17b64f28",
   "metadata": {},
   "outputs": [],
   "source": [
    "price_e10 = 1.817104\n",
    "price_sp98 = 1.901638"
   ]
  },
  {
   "cell_type": "markdown",
   "id": "5353c9c5",
   "metadata": {},
   "source": [
    "## II.b Environmental impact"
   ]
  },
  {
   "cell_type": "markdown",
   "id": "5766f275",
   "metadata": {},
   "source": [
    "##### Now let's try to get an estimation of the expectable amount of CO2 emissions for each fuel."
   ]
  },
  {
   "cell_type": "code",
   "execution_count": 326,
   "id": "3c7452d5",
   "metadata": {},
   "outputs": [],
   "source": [
    "os.chdir(\"../notebooks\")"
   ]
  },
  {
   "cell_type": "markdown",
   "id": "4fef827a",
   "metadata": {},
   "source": [
    "##### Let's estimate now the emissions per kilometer for the SP98 fuel:\n",
    "- 1 liter of petrol weighs 750 grammes. Petrol consists for 87% of carbon, or 652 grammes of carbon per liter of petrol. In order to combust this carbon to CO2, 1740 grammes of oxygen is needed. The sum is then 652 + 1740 = 2392 grammes of CO2/liter of petrol.\n",
    "- An average consumption of 5 liters/100 km then corresponds to 5 l x 2392 g/l / 100 (per km) = 120 g CO2/km.\n",
    "\n",
    "##### If we estimate that 10% of the composition is ethanol, the average decrease of carbon emissions compared to the regular gasoline is of 2%:\n",
    "- 2392 * 0.98 = 2344.16 grammes of CO2/liter of fuel.\n",
    "- An average consumption of 5 liters/100 km then corresponds to 5 l x 2344.16 g/l / 100 (per km) = 117.2 g CO2/km."
   ]
  },
  {
   "cell_type": "code",
   "execution_count": 327,
   "id": "25dbfaaf",
   "metadata": {},
   "outputs": [],
   "source": [
    "co2_e10 = 2.34416\n",
    "co2_sp98 = 2.392"
   ]
  },
  {
   "cell_type": "markdown",
   "id": "8d486bf1",
   "metadata": {},
   "source": [
    "# III. Back to the main dataframe"
   ]
  },
  {
   "cell_type": "markdown",
   "id": "1b1b940f",
   "metadata": {},
   "source": [
    "## III.a Data related to the environmental conditions"
   ]
  },
  {
   "cell_type": "markdown",
   "id": "3096db6f",
   "metadata": {},
   "source": [
    "##### We can manually estimate an average 5 % loss of power due to having the AC system on, developing a range according to the diferences in the temperatures.\n",
    "\n",
    "##### After checking the correlation, we will see if any other parameters are relevant."
   ]
  },
  {
   "cell_type": "code",
   "execution_count": 328,
   "id": "417f5527",
   "metadata": {},
   "outputs": [
    {
     "data": {
      "text/html": [
       "<div>\n",
       "<style scoped>\n",
       "    .dataframe tbody tr th:only-of-type {\n",
       "        vertical-align: middle;\n",
       "    }\n",
       "\n",
       "    .dataframe tbody tr th {\n",
       "        vertical-align: top;\n",
       "    }\n",
       "\n",
       "    .dataframe thead th {\n",
       "        text-align: right;\n",
       "    }\n",
       "</style>\n",
       "<table border=\"1\" class=\"dataframe\">\n",
       "  <thead>\n",
       "    <tr style=\"text-align: right;\">\n",
       "      <th></th>\n",
       "      <th>distance</th>\n",
       "      <th>consume</th>\n",
       "      <th>speed</th>\n",
       "      <th>temp_inside</th>\n",
       "      <th>temp_outside</th>\n",
       "      <th>gas_type</th>\n",
       "      <th>AC</th>\n",
       "      <th>rain</th>\n",
       "      <th>sun</th>\n",
       "    </tr>\n",
       "  </thead>\n",
       "  <tbody>\n",
       "    <tr>\n",
       "      <th>1</th>\n",
       "      <td>12.0</td>\n",
       "      <td>4.2</td>\n",
       "      <td>30</td>\n",
       "      <td>21.5</td>\n",
       "      <td>13</td>\n",
       "      <td>E10</td>\n",
       "      <td>0</td>\n",
       "      <td>0</td>\n",
       "      <td>0</td>\n",
       "    </tr>\n",
       "  </tbody>\n",
       "</table>\n",
       "</div>"
      ],
      "text/plain": [
       "   distance  consume  speed  temp_inside  temp_outside gas_type  AC  rain  sun\n",
       "1      12.0      4.2     30         21.5            13      E10   0     0    0"
      ]
     },
     "execution_count": 328,
     "metadata": {},
     "output_type": "execute_result"
    }
   ],
   "source": [
    "df.head(1)"
   ]
  },
  {
   "cell_type": "code",
   "execution_count": 330,
   "id": "891e8a70",
   "metadata": {},
   "outputs": [
    {
     "data": {
      "image/png": "[encoded data removed]",
      "text/plain": [
       "<Figure size 792x648 with 2 Axes>"
      ]
     },
     "metadata": {
      "needs_background": "light"
     },
     "output_type": "display_data"
    }
   ],
   "source": [
    "corr = df.corr()\n",
    "mask = np.triu(np.ones_like(corr, dtype=bool))\n",
    "f, ax = plt.subplots(figsize=(11, 9))\n",
    "sns.heatmap(corr, mask=mask, annot=True, vmin=-1, vmax=1, center=0, square=True, linewidths=.5, cbar_kws={\"shrink\": .5});"
   ]
  },
  {
   "cell_type": "markdown",
   "id": "8e915ea8",
   "metadata": {},
   "source": [
    "## III.b Cost and CO2 impact estimation per trip"
   ]
  },
  {
   "cell_type": "code",
   "execution_count": 333,
   "id": "37f717ff",
   "metadata": {},
   "outputs": [],
   "source": [
    "df['cost'] = df.apply(lambda row: (row['consume'] * price_e10) if row['gas_type'] == 'E10' else (row['consume'] * price_sp98), axis=1)\n",
    "df['co2'] = df.apply(lambda row: (row['consume'] * co2_e10) if row['gas_type'] == 'E10' else (row['consume'] * co2_sp98), axis=1)"
   ]
  },
  {
   "cell_type": "code",
   "execution_count": 334,
   "id": "4876127a",
   "metadata": {},
   "outputs": [
    {
     "data": {
      "text/html": [
       "<div>\n",
       "<style scoped>\n",
       "    .dataframe tbody tr th:only-of-type {\n",
       "        vertical-align: middle;\n",
       "    }\n",
       "\n",
       "    .dataframe tbody tr th {\n",
       "        vertical-align: top;\n",
       "    }\n",
       "\n",
       "    .dataframe thead th {\n",
       "        text-align: right;\n",
       "    }\n",
       "</style>\n",
       "<table border=\"1\" class=\"dataframe\">\n",
       "  <thead>\n",
       "    <tr style=\"text-align: right;\">\n",
       "      <th></th>\n",
       "      <th>distance</th>\n",
       "      <th>consume</th>\n",
       "      <th>speed</th>\n",
       "      <th>temp_inside</th>\n",
       "      <th>temp_outside</th>\n",
       "      <th>gas_type</th>\n",
       "      <th>AC</th>\n",
       "      <th>rain</th>\n",
       "      <th>sun</th>\n",
       "      <th>cost</th>\n",
       "      <th>co2</th>\n",
       "    </tr>\n",
       "  </thead>\n",
       "  <tbody>\n",
       "    <tr>\n",
       "      <th>1</th>\n",
       "      <td>12.0</td>\n",
       "      <td>4.2</td>\n",
       "      <td>30</td>\n",
       "      <td>21.5</td>\n",
       "      <td>13</td>\n",
       "      <td>E10</td>\n",
       "      <td>0</td>\n",
       "      <td>0</td>\n",
       "      <td>0</td>\n",
       "      <td>7.631837</td>\n",
       "      <td>9.845472</td>\n",
       "    </tr>\n",
       "  </tbody>\n",
       "</table>\n",
       "</div>"
      ],
      "text/plain": [
       "   distance  consume  speed  temp_inside  temp_outside gas_type  AC  rain  \\\n",
       "1      12.0      4.2     30         21.5            13      E10   0     0   \n",
       "\n",
       "   sun      cost       co2  \n",
       "1    0  7.631837  9.845472  "
      ]
     },
     "execution_count": 334,
     "metadata": {},
     "output_type": "execute_result"
    }
   ],
   "source": [
    "df.head(1)"
   ]
  },
  {
   "cell_type": "code",
   "execution_count": 336,
   "id": "074306c8",
   "metadata": {},
   "outputs": [
    {
     "data": {
      "text/plain": [
       "gas_type\n",
       "E10     9.066722\n",
       "SP98    9.398846\n",
       "Name: cost, dtype: float64"
      ]
     },
     "execution_count": 336,
     "metadata": {},
     "output_type": "execute_result"
    }
   ],
   "source": [
    "df.groupby(['gas_type']).cost.mean()"
   ]
  },
  {
   "cell_type": "code",
   "execution_count": 337,
   "id": "cb431ae2",
   "metadata": {},
   "outputs": [
    {
     "data": {
      "text/plain": [
       "gas_type\n",
       "E10     11.69655\n",
       "SP98    11.82246\n",
       "Name: co2, dtype: float64"
      ]
     },
     "execution_count": 337,
     "metadata": {},
     "output_type": "execute_result"
    }
   ],
   "source": [
    "df.groupby(['gas_type']).co2.mean()"
   ]
  },
  {
   "cell_type": "code",
   "execution_count": 344,
   "id": "9629e331",
   "metadata": {},
   "outputs": [],
   "source": [
    "estim_red_cost = round(100 - ((9.066722 / 9.398846) * 100), 2)\n",
    "estim_red_co2 = round(100 - ((11.69655 / 11.82246) * 100), 2)"
   ]
  },
  {
   "cell_type": "code",
   "execution_count": 347,
   "id": "18a32ada",
   "metadata": {},
   "outputs": [
    {
     "name": "stdout",
     "output_type": "stream",
     "text": [
      "The average cost reduction by using E10 instead of SP98 is of 3.53 %.\n",
      "The average CO2 reduction by using E10 instead of SP98 is of 1.07 %.\n"
     ]
    }
   ],
   "source": [
    "print(f'The average cost reduction by using E10 instead of SP98 is of {estim_red_cost} %.')\n",
    "print(f'The average CO2 reduction by using E10 instead of SP98 is of {estim_red_co2} %.')"
   ]
  },
  {
   "cell_type": "markdown",
   "id": "fcd8ec7f",
   "metadata": {},
   "source": [
    "##### Therefore, the best option with the available data is to use E10 fuel. ⚡⚡"
   ]
  },
  {
   "cell_type": "code",
   "execution_count": 348,
   "id": "c4666f60",
   "metadata": {},
   "outputs": [],
   "source": [
    "df.to_csv('../data/clean_df.csv', index=False)"
   ]
  }
 ],
 "metadata": {
  "kernelspec": {
   "display_name": "ironhack",
   "language": "python",
   "name": "ironhack"
  },
  "language_info": {
   "codemirror_mode": {
    "name": "ipython",
    "version": 3
   },
   "file_extension": ".py",
   "mimetype": "text/x-python",
   "name": "python",
   "nbconvert_exporter": "python",
   "pygments_lexer": "ipython3",
   "version": "3.8.8"
  }
 },
 "nbformat": 4,
 "nbformat_minor": 5
}
